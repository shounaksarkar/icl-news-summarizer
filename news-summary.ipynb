{
 "cells": [
  {
   "cell_type": "markdown",
   "metadata": {},
   "source": [
    "# In this assignment we demonstrate the capabilities of the technique **In-context learning (ICL)** used in prompt engineering. \n"
   ]
  },
  {
   "cell_type": "markdown",
   "metadata": {},
   "source": [
    " We want to summarize news article according to our own preferences in our own format and we would be using In-context learning by passing some example summaries to the prompt and expect the LLM to learn from the context. \n",
    "\n",
    "- We would not be passing any details in the prompt about the format of the summary, instead we will rely on the LLM to learn it by itself from the examples passed in the context.\n",
    "- We would compare such response with a default summary provided by the same LLM, without any in-context learning.\n",
    "\n",
    "This comparison will help us understand the true power of In-context learning\n"
   ]
  },
  {
   "cell_type": "markdown",
   "metadata": {},
   "source": [
    "## The format we want our summaries to be like: ##\n",
    "\n",
    "**Gist:**\n",
    "\n",
    "**Economic Impact:** \n",
    "\n",
    "**Social Impact:**\n",
    "\n",
    "**All Facts and Figures:**\n",
    "\n",
    "**Written by and source:**\n",
    "\n",
    "We care about the economics, social impacts of every news and want to know about the facts of figures present in the article. This is our preference."
   ]
  },
  {
   "cell_type": "markdown",
   "metadata": {},
   "source": [
    "## Setting up example articles with our preferred summary."
   ]
  },
  {
   "cell_type": "code",
   "execution_count": 33,
   "metadata": {},
   "outputs": [],
   "source": [
    "#First let's create summaries of Three articles which we will use for in-context learning later in our summarization part.\n",
    "\n",
    "article_1 = \"\"\"\n",
    "World's biggest music labels sue over AI copyright\n",
    "9 hours ago\n",
    "By Natalie Sherman, \n",
    "BBC News\n",
    "Share\n",
    "Getty Images  Photo of ABBA, L-R: Bjorn Ulvaeus, Agnetha Faltskog, Anni-Frid Lyngstad, Benny Andersson performing live onstage in Wembley Arena in the UK in 1979Getty Images\n",
    "The lawsuits say Suno and Udio produce works by artists including ABBA that even devoted fans would struggle to tell was AI-generated\n",
    "The world's biggest record labels are suing two artificial intelligence (AI) start-ups over alleged copyright violation in a potentially landmark case.\n",
    "Firms including Sony Music, Universal Music Group and Warner Records say Suno and Udio have committed copyright infringement on an \"almost unimaginable scale\".\n",
    "They claim the pair's software steals music to \"spit out\" similar work and ask for compensation of $150,000 (£118,200) per work.\n",
    "Suno and Udio did not immediately respond to a request for comment.\n",
    "The lawsuits, announced on Monday by the Recording Industry Association of America, are part of a wave of lawsuits from authors, news organisations and other groups that are challenging the rights of AI firms to use their work.\n",
    "Suno, which is based in Massachusetts, released its first product last year and claims more than 10 million people have used its tool to make music.\n",
    "The company, which has a partnership with Microsoft, charges a monthly fee for its service and recently announced it had raised $125m from investors.\n",
    "New York-based Udio, known as Uncharted Labs, is backed by high profile venture capital investors such as Andreessen Horowitz.\n",
    "It released its app to the public in April, achieving near-instant fame for being the tool used to create \"BBL Drizzy\" - a parody track related to feud between the artists Kendrick Lamar and Drake.\n",
    "Billie Eilish and Nicki Minaj want stop to 'predatory' AI\n",
    "Sheryl Crow: 'Resurrecting Tupac with AI is hateful'\n",
    "In the past, AI firms have argued that their use of the material is legitimate under the fair use doctrine, which allows copyrighted works to be used without a license under certain conditions, such as for satire and news.\n",
    "Supporters have compared machine learning by AI tools to the way humans learn by reading, hearing and seeing previous works.\n",
    "But in the complaints, which were filed in federal court in Massachusetts and New York, the record labels say the AI firms are simply making money from having copied the songs.\n",
    "\"The use here is far from transformative, as there is no functional purpose for... [the] AI model to ingest the Copyrighted Recordings other than to spit out new, competing music files,\" according to the complaints.\n",
    "The complaints say Suno and Udio produce works like \"Prancing Queen\" that even devoted ABBA fans would struggle to distinguish from an authentic recording from the band.\n",
    "Songs cited in the Udio lawsuit include Mariah Carey's \"All I Want for Christmas is You\" and \"My Girl\" by The Temptations.\n",
    "The \"motive is brazenly commercial and threatens to displace the genuine human artistry that is at the heart of copyright protection\", the record labels said in the lawsuits.\n",
    "They said there was nothing about AI that excused the firms from \"playing by the rules\" and warned that the \"wholesale theft\" of the recordings threatened \"the entire music ecosystem\".\n",
    "The lawsuits come just months after roughly 200 artists including Billie Eilish and Nicki Minaj signed a letter calling for the \"predatory\" use of artificial intelligence (AI) in the music industry to be stopped.\n",
    "\"\"\"\n",
    "summary_1 = \"\"\"\n",
    "**Gist:**\n",
    "Major music labels sue AI start-ups Suno and Udio for alleged massive copyright infringement, claiming AI-generated music threatens artistic integrity.\n",
    "\n",
    "**Economic Impact:**\n",
    "- Lawsuits seek $150,000 (£118,200) per work, potentially impacting Suno and Udio's financial viability and investor confidence.\n",
    "- Legal fees and settlements could affect future AI music development and industry regulations.\n",
    "\n",
    "**Social Impact:**\n",
    "- Debate intensifies over AI's role in music creation, challenging traditional copyright laws and artistic authenticity.\n",
    "- Artists and industry stakeholders advocate for stricter regulations to protect original creativity and rights.\n",
    "\n",
    "**All Facts and Figures:**\n",
    "- Lawsuits filed by Sony Music, Universal Music Group, and Warner Records in federal courts in Massachusetts and New York.\n",
    "- Suno and Udio accused of producing AI-generated songs like \"Prancing Queen\" mimicking iconic tracks.\n",
    "- Suno raised $125 million, collaborates with Microsoft; Udio (Uncharted Labs) gained prominence with \"BBL Drizzy\" parody.\n",
    "- AI firms argue fair use; labels allege commercial exploitation and threat to music ecosystem.\n",
    "\n",
    "**Written by and Source:**\n",
    "- Written by Natalie Sherman, BBC News\n",
    "\"\"\"\n",
    "\n",
    "\n",
    "article_2 = \"\"\"\n",
    "Wikileaks: Julian Assange freed in US plea deal\n",
    "4 hours ago\n",
    "By Bernd Debusmann Jr,\n",
    "BBC News, Washington\n",
    "Share\n",
    "Getty Images Julian Assange in 2017Getty Images\n",
    "Julian Assange will serve no time in US custody as part of the deal with the justice department\n",
    "After a years-long legal saga, Wikileaks says that founder Julian Assange has left the UK after reaching a deal with US authorities that will see him plead guilty to criminal charges and go free.\n",
    "Assange, 52, was charged with conspiracy to obtain and disclose national defence information.\n",
    "For years, the US has argued that the Wikileaks files - which disclosed information about the Iraq and Afghanistan wars - endangered lives.\n",
    "Assange spent the last five years in a British prison, from where he was fighting extradition to the US.\n",
    "According to CBS, the BBC's US partner, Assange will spend no time in US custody and will receive credit for the time spent incarcerated in the UK.\n",
    "Assange will return to Australia, according to a letter from the justice department.\n",
    "On X, the platform formerly known as Twitter, Wikileaks said that Assange left Belmarsh prison on Monday after 1,901 days in a small cell.\n",
    "He was then \"released at Stansted airport during the afternoon, where he boarded a plane and departed the UK\" to return to Australia, the statement added.\n",
    "Video shared online by Wikileaks appear to show Assange, dressed in jeans and a blue shirt, being driven to Stansted before boarding an aircraft.\n",
    "The BBC has been unable to independently verify the video.\n",
    "His wife, Stella Assange, tweeted thanks to his supporters \"who have all mobilised for years and years to make this come true\".\n",
    "The deal - which will see him plead guilty to one charge - is expected to be finalised in a court in the Northern Mariana Islands on Wednesday, 26 June.\n",
    "The remote Pacific islands, a US commonwealth, are much closer to Australia than US federal courts in Hawaii or the continental US.\n",
    "Agence France Press quoted a spokesperson for Australia's government as saying that the case had \"dragged on for too long\".\n",
    "His attorney, Richard Miller, declined to comment when contacted by CBS. The BBC has also contacted his US-based lawyer.\n",
    "He and his lawyers had long claimed that the case against him was politically motivated.\n",
    "In April, US President Joe Biden said that he was considering a request from Australia to drop the prosecution against Assange.\n",
    "In a victory the following month, the UK High Court ruled that Assange could bring a new appeal against extradition to the US, allowing him to challenge US assurances over how his prospective trial would be conducted and whether his right to free speech would be infringed.\n",
    "After the ruling, his wife Stella told reporters and supporters that the Biden administration \"should distance itself from this shameful prosecution\".\n",
    "US prosecutors had originally wanted to try the Wikileaks founder on 18 counts - mostly under the Espionage Act - over the release of confidential US military records and diplomatic messages related to the wars in Afghanistan and Iraq.\n",
    "Wikileaks, which Assange founded in 2006, claims to have published over 10 million documents in what the US government later described as \"one of the largest compromises of classified information in the history of the United States\".\n",
    "In 2010, the website published a video from a US military helicopter which showed more than a dozen Iraqi civilians, including two Reuters news reporters, being killed in Baghdad.\n",
    "One of Assange's most well-known collaborators, US Army intelligence analyst Chelsea Manning, was sentenced to 35 years in prison before then-president Barack Obama commuted her sentence in 2017.\n",
    "Assange also faced separate charges of rape and sexual assault in Sweden, which he denied.\n",
    "He spent seven years hiding in Ecuador's London embassy, claiming the Swedish case would lead him to be sent to the US.\n",
    "Swedish authorities dropped the case in 2019 and said that too much time had passed since the original complaint, but UK authorities later took him into custody. He was tried for not surrendering to the courts to be extradited to Sweden.\n",
    "Even amid long-running legal battles, Assange has rarely been seen in public and for years has reportedly suffered from poor health, including a small stroke in prison in 2021.\n",
    "\"\"\"\n",
    "summary_2 = \"\"\"\n",
    "**Gist:** Julian Assange freed in a US plea deal, allowing him to return to Australia after years of legal battles and imprisonment in the UK.\n",
    "\n",
    "**Economic Impact:** The case's conclusion may reduce legal and custodial costs for both the US and UK governments.\n",
    "\n",
    "**Social Impact:** The deal is seen as a significant moment for press freedom advocates and Assange supporters, who have long claimed his prosecution was politically motivated.\n",
    "\n",
    "**All Facts and Figures:**\n",
    "- Julian Assange, 52, charged with conspiracy to obtain and disclose national defense information.\n",
    "- Spent 1,901 days in a British prison.\n",
    "- Will receive credit for time served in the UK.\n",
    "- Plea deal to be finalized in Northern Mariana Islands on June 26.\n",
    "- Wikileaks published over 10 million documents.\n",
    "- Video of US military killing civilians in Baghdad published in 2010.\n",
    "\n",
    "**Written by and source:** Bernd Debusmann Jr, BBC News\n",
    "\n",
    "\"\"\"\n",
    "\n",
    "\n",
    "article_3 = \"\"\"\n",
    "Criminal charges recommended against Boeing\n",
    "6 hours ago\n",
    "By João da Silva,\n",
    "Business reporter\n",
    "\n",
    "Share\n",
    "Reuters File photo of a Boeing logo on the side of a 737 MAX at the Farnborough International Airshow.Reuters\n",
    "US prosecutors have recommended that the Department of Justice (DoJ) brings criminal charges against Boeing.\n",
    "It follows a claim by the DoJ that the plane maker had violated a settlement related to two fatal crashes involving its 737 Max aircraft which killed 346 people.\n",
    "Boeing declined to comment when contacted by the BBC but previously it has denied violating the deferred prosecution agreement.\n",
    "The DoJ has until 7 July to make a final decision on whether to prosecute the company. The DoJ has declined to comment.\n",
    "The recommendation is not a final decision and the details of any potential criminal action are not known, according to CBS, the BBC's US partner.\n",
    "\"This is a really critical decision that is coming up,” said Ed Pierson, who is the executive director of the Foundation for Aviation Safety and a former senior manager at Boeing.\n",
    "He told the BBC's Radio 4 Today programme: \"There are issues with these aeroplanes. We’re seeing problems with these planes and I’m talking about 737 Max, 787 and it is reflective of the leadership.\"\n",
    "The plane crashes - both involving Boeing's 737 Max aircraft - occurred within six months of each other.\n",
    "The crash involving Indonesia's Lion Air occurred in October 2018, following by an Ethiopian Airlines flight in March 2019.\n",
    "Last week, relatives of the victims urged prosecutors to seek a fine against Boeing of $25bn (£14.6bn) and to pursue a criminal prosecution.\n",
    "Under a deal reached in 2021, Boeing said it would pay a $2.5bn settlement and prosecutors agreed to ask the court to drop a criminal charge after three years if the company abided by certain stipulations set out in the deferred prosecution agreement.\n",
    "But last month, the DoJ said Boeing was in breach of the deal, stating that it had failed to \"design, implement, and enforce a compliance and ethics program to prevent and detect violations of the US fraud laws throughout its operations\".\n",
    "Boeing crash families demand record $25bn fine\n",
    "Boeing may face criminal prosecution over 737 Max crashes, US says\n",
    "Last week, Boeing's outgoing chief executive Dave Calhoun faced a grilling from US senators.\n",
    "\n",
    "Mr Calhoun testified that the company had \"learned\" from past mistakes and that the process for employee whistleblowers \"works\" - but lawmakers still accused him of not doing enough to rectify a culture of retaliation.\n",
    "As part of an ongoing investigation, Boeing whistleblowers told the Senate in April that the 737 Max, the 787 Dreamliner and the 777 models had serious production issues.\n",
    "The company was most recently put in the spotlight when a door panel fell off a new 737 Max plane during an Alaska Airlines flight in January, leaving a gaping hole.\n",
    "Mr Calhoun is stepping down as chief executive at the end of the year\n",
    "\"\"\"\n",
    "summary_3 = \"\"\"\n",
    "**Gist:** US prosecutors recommend criminal charges against Boeing for violating a settlement related to two fatal 737 Max crashes that killed 346 people.\n",
    "\n",
    "**Economic Impact:** Boeing faces potential fines up to $25 billion, impacting its financial stability and market reputation.\n",
    "\n",
    "**Social Impact:** Families of crash victims and aviation safety advocates demand accountability, highlighting ongoing concerns about Boeing's safety culture and compliance.\n",
    "\n",
    "**All Facts and Figures:**\n",
    "- 346 people killed in two 737 Max crashes (Lion Air in October 2018, Ethiopian Airlines in March 2019).\n",
    "- Boeing agreed to a $2.5 billion settlement in 2021.\n",
    "- Potential additional fine of $25 billion requested by victims' families.\n",
    "- DOJ has until July 7 to decide on prosecution.\n",
    "- Boeing CEO Dave Calhoun's compensation: $33 million.\n",
    "- Deferred prosecution agreement involved compliance with US fraud laws.\n",
    "\n",
    "**Written by and source:** João da Silva, BBC News\n",
    "\"\"\"\n",
    "\n",
    "\n",
    "#Now we make these articles along with their summary as examples\n",
    "\n",
    "example_1 = f''' \n",
    "Article: {article_1}\n",
    "\n",
    "Summary of this Article: {summary_1}\n",
    "'''\n",
    "example_2 = f''' \n",
    "Article: {article_2}\n",
    "\n",
    "Summary of this Article: {summary_2}\n",
    "'''\n",
    "example_3 = f''' \n",
    "Article: {article_3}\n",
    "\n",
    "Summary of this Article: {summary_3}\n",
    "'''"
   ]
  },
  {
   "cell_type": "markdown",
   "metadata": {},
   "source": [
    "## Installing necessary Libraries ##\n",
    "We would be using llama3-70B using Groq API for our use-case."
   ]
  },
  {
   "cell_type": "code",
   "execution_count": null,
   "metadata": {},
   "outputs": [],
   "source": [
    "! pip install langchain_groq "
   ]
  },
  {
   "cell_type": "code",
   "execution_count": 32,
   "metadata": {},
   "outputs": [],
   "source": [
    "from IPython.display import Markdown\n",
    "from langchain_groq import ChatGroq\n",
    "llm = ChatGroq(temperature=0.5, groq_api_key=\"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\", model_name=\"llama3-70b-8192\")"
   ]
  },
  {
   "cell_type": "markdown",
   "metadata": {},
   "source": [
    "## Code for default summary ##\n"
   ]
  },
  {
   "cell_type": "code",
   "execution_count": 31,
   "metadata": {},
   "outputs": [],
   "source": [
    "def default_summary(article:str):\n",
    "    prompt = f'''\n",
    "            Summarize the following news article: {article}\n",
    "            '''\n",
    "    response = llm.invoke(prompt)\n",
    "    return response.content"
   ]
  },
  {
   "cell_type": "markdown",
   "metadata": {},
   "source": [
    "## Code for personalised summary with In-Context Learning prompt."
   ]
  },
  {
   "cell_type": "code",
   "execution_count": 35,
   "metadata": {},
   "outputs": [],
   "source": [
    "\n",
    "def personalised_summarize(article:str):\n",
    "\n",
    "    # Please note that in the prompt we have not mentioned any details about the format we want but only pass along the examples for in-context learning.\n",
    "    prompt = f'''\n",
    "             ### Instructions ###\n",
    "             You are an expert in summarizing news articles in given format. \n",
    "             Below are three examples from which you are to learn the format of the summary.\n",
    "             After that you will be provided with an article, which you have to summarize in the exact format, the format you will learn from the pattern in the examples given below.\n",
    "\n",
    "             ### Examples 1 ###\n",
    "             {example_1}\n",
    "\n",
    "             ### Example 2 ###\n",
    "             {example_2}\n",
    "\n",
    "             ### Example 3 ###\n",
    "             {example_3}\n",
    "\n",
    "             ### Summarize this article now ###\n",
    "             Article: {article}\n",
    "             Summary: \n",
    "            '''\n",
    "    response = llm.invoke(prompt)\n",
    "    return response.content"
   ]
  },
  {
   "cell_type": "markdown",
   "metadata": {},
   "source": [
    "## Testing and Comparison."
   ]
  },
  {
   "cell_type": "code",
   "execution_count": 27,
   "metadata": {},
   "outputs": [
    {
     "data": {
      "text/markdown": [
       "## Default Summary"
      ],
      "text/plain": [
       "<IPython.core.display.Markdown object>"
      ]
     },
     "metadata": {},
     "output_type": "display_data"
    },
    {
     "data": {
      "text/markdown": [
       "A gang of cybercriminals, known as Qilin, has hacked into an NHS blood testing company, Synnovis, and stolen sensitive patient data, including names, dates of birth, NHS numbers, and blood test descriptions. The hackers are demanding a ransom payment in Bitcoin and have published almost 400GB of the stolen data on the darknet. The hack has caused significant disruption to multiple London hospitals, resulting in over 3,000 hospital and GP appointments and operations being cancelled or delayed, including a cancer patient's operation. Cybersecurity experts have described the attack as one of the most significant and harmful in the UK. The hackers have also stolen business account spreadsheets detailing financial arrangements between hospitals and GP services. NHS England and Synnovis are working to determine the content of the published files, but it may take several months to restore systems. The attack highlights the vulnerability of healthcare organizations to ransomware attacks, which are increasingly being targeted by cybercriminals."
      ],
      "text/plain": [
       "<IPython.core.display.Markdown object>"
      ]
     },
     "metadata": {},
     "output_type": "display_data"
    },
    {
     "data": {
      "text/markdown": [
       "## Personalised Summary"
      ],
      "text/plain": [
       "<IPython.core.display.Markdown object>"
      ]
     },
     "metadata": {},
     "output_type": "display_data"
    },
    {
     "data": {
      "text/markdown": [
       "Here is the summary of the article:\n",
       "\n",
       "**Gist:** Cybercriminals have published sensitive patient data stolen from an NHS blood testing company, causing huge disruption to multiple London hospitals and affecting over 3,000 hospital and GP appointments and operations.\n",
       "\n",
       "**Economic Impact:** The attack has resulted in significant financial losses for the NHS and affected hospitals, with potential long-term consequences for the healthcare sector.\n",
       "\n",
       "**Social Impact:** Patients, including a teenager being treated for cancer, have had their operations delayed, and many are worried about the security of their personal data.\n",
       "\n",
       "**All Facts and Figures:**\n",
       "- Over 400GB of patient data stolen, including names, dates of birth, NHS numbers, and blood test descriptions.\n",
       "- More than 3,000 hospital and GP appointments and operations disrupted.\n",
       "- Qilin gang behind the attack, demanding ransom payment in Bitcoin.\n",
       "- NHS England and Synnovis working to determine the content of the published files.\n",
       "- Cybersecurity experts warn that healthcare organisations are increasingly being targeted by ransomware attacks.\n",
       "\n",
       "**Written by and source:** Joe Tidy, BBC News"
      ],
      "text/plain": [
       "<IPython.core.display.Markdown object>"
      ]
     },
     "metadata": {},
     "output_type": "display_data"
    }
   ],
   "source": [
    "example_article = '''\n",
    "Stolen test data and NHS numbers published by hospital hackers\n",
    "3 days ago\n",
    "By Joe Tidy, \n",
    "St Thomas’ was one of the affected NHS trusts, along with King’s College Hospitals and certain GP services\n",
    "A gang of cyber criminals causing huge disruption to multiple London hospitals has published sensitive patient data stolen from an NHS blood testing company.\n",
    "Overnight on Thursday, Qilin shared almost 400GB of the private information on their darknet site.\n",
    "The gang has been trying to extort money from NHS provider Synnovis since they hacked the firm on 3 June.\n",
    "Cyber security expert Ciaran Martin told the BBC it was \"one of the most significant and harmful cyber attacks ever in the UK.\"\n",
    "A sample of the data seen by the BBC includes patient names, dates of birth, NHS numbers and descriptions of blood tests. It is not known if test results are also in the data.\n",
    "The hack has also resulted in more than 3,000 hospital and GP appointments and operations being disrupted.\n",
    "A teenager being treated for cancer is among those affected.\n",
    "Dylan Kjorstad's parents have told the BBC they were left in a state of \"disbelief\" when they were told his operation to have a tumour on his ribs removed was being delayed.\n",
    "Mr Martin, ex-head of the National Cyber Security Centre and now a professor at Oxford University, told the BBC Radio 4's World at One programme it could be several months before systems were restored.\n",
    "Qilin previously told the BBC they would publish the data unless they got paid.\n",
    "There are also business account spreadsheets detailing financial arrangements between hospitals and GP services and Synnovis.\n",
    "NHS England told the BBC it was aware of the publication but could not be completely sure the shared data was real.\n",
    "Screenshot with information on Synnovis\n",
    "A screenshot taken from Qilin’s darknet leak site, with information on Synnovis.\n",
    "\"We understand that people may be concerned by this and we are continuing to work with Synnovis, the National Cyber Security Centre and other partners to determine the content of the published files as quickly as possible,\" it said.\n",
    "Synnovis, meanwhile, said: \"We know how worrying this development may be for many people. We are taking it very seriously and an analysis of this data is already underway.\"\n",
    "The ransomware hackers infiltrated the computer systems of the company, which is used by two NHS trusts in London, and encrypted vital information making IT systems useless.\n",
    "As is often the case with these gangs, they also downloaded as much private data as they could to further extort the company for a ransom payment in Bitcoin.\n",
    "It is not known how much money the hackers demanded from Synnovis or if the company entered negotiations. But the fact Qilin has published some, potentially all, of the data means they did not pay.\n",
    "Law enforcement agencies around the world regularly urge victims of ransomware not to pay as it fuels the criminal enterprise and does not guarantee that the criminals will do as they promise.\n",
    "Ransomware expert Brett Callow, from Emsisoft, said healthcare organisations were increasingly being targeted as the hackers knew that they could cause a lot of harm and sometimes get a big pay day.\n",
    "“Cybercriminals go where the money is and, unfortunately, the money is in attacking the healthcare sector. And since United Health Group reportedly paid a $22m (£17.3m) ransom earlier this year, the sector is more squarely in the crosshairs than ever before,” he said.\n",
    "On Tuesday night, Qilin spoke to the BBC on an encrypted messaging service and said they had deliberately targeted Synnovis as a way to punish the UK for not helping enough in an unspecified war.\n",
    "Mr Martin described that claim as \"absolute garbage\" and said their aims were \"entirely financial.\"\n",
    "The gang, like many ransomware crews, is thought to be based in Russia, but told the BBC it could not be more specific about its political allegiance or geography \"for security reasons\".\n",
    "On their darknet site, they also have stolen data from other healthcare organisations, as well as schools, companies and councils from around the world.\n",
    "Don't blame us for people suffering - London hospital hackers\n",
    "Hospitals cyber attack impacts 800 operations\n",
    "Critical incident over London hospitals' cyber-attack\n",
    "\"I think this is probably one of the most significant cyber attacks on the NHS,\" said Saira Ghafur, an expert in healthcare cyber security at Imperial College London.\n",
    "\"This will all have quite a severe impact in the delivery of patient care, which we'll see impacted for an ongoing couple of weeks,\" she told World at One.\n",
    "\"We're very much in the era, not that if we're going to be attacked cyber attack, but when,\" she added.\n",
    "Ms Ghafur also said that systems now need to be \"resilient enough to take several shocks at the same time\" as attacks become more common.\n",
    "'''\n",
    "display(Markdown(\"## Default Summary\"))\n",
    "default = default_summary(example_article)\n",
    "display(Markdown(default))\n",
    "\n",
    "display(Markdown(\"## Personalised Summary\"))\n",
    "personalised = personalised_summarize(example_article)\n",
    "display(Markdown(personalised))"
   ]
  },
  {
   "cell_type": "code",
   "execution_count": null,
   "metadata": {},
   "outputs": [],
   "source": []
  }
 ],
 "metadata": {
  "kernelspec": {
   "display_name": "myenv",
   "language": "python",
   "name": "python3"
  },
  "language_info": {
   "codemirror_mode": {
    "name": "ipython",
    "version": 3
   },
   "file_extension": ".py",
   "mimetype": "text/x-python",
   "name": "python",
   "nbconvert_exporter": "python",
   "pygments_lexer": "ipython3",
   "version": "3.11.4"
  }
 },
 "nbformat": 4,
 "nbformat_minor": 2
}
